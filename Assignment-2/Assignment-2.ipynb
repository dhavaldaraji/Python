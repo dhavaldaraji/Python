{
 "cells": [
  {
   "cell_type": "code",
   "execution_count": 2,
   "metadata": {},
   "outputs": [],
   "source": [
    "# Task 1:"
   ]
  },
  {
   "cell_type": "code",
   "execution_count": 3,
   "metadata": {},
   "outputs": [],
   "source": [
    "# 1.1 Write a Python Program to implement your own myreduce() function which works exactly like Python's built-in function reduce()"
   ]
  },
  {
   "cell_type": "code",
   "execution_count": 1,
   "metadata": {},
   "outputs": [
    {
     "data": {
      "text/plain": [
       "45"
      ]
     },
     "execution_count": 1,
     "metadata": {},
     "output_type": "execute_result"
    }
   ],
   "source": [
    "def myreduce(fun,seq):\n",
    "    a = seq[0]\n",
    "    for i in range(1,len(seq)):\n",
    "        b=seq[i]\n",
    "        a=fun(a,b)\n",
    "    return a\n",
    "lst=[1,2,3,4,5,6,7,8,9]\n",
    "s=myreduce(lambda a,b:a+b,lst)\n",
    "s"
   ]
  },
  {
   "cell_type": "code",
   "execution_count": 2,
   "metadata": {},
   "outputs": [],
   "source": [
    "# 1.2 Write a Python program to implement your own myfilter() function which works exactly like Python's built-in function filter()"
   ]
  },
  {
   "cell_type": "code",
   "execution_count": 3,
   "metadata": {},
   "outputs": [
    {
     "name": "stdout",
     "output_type": "stream",
     "text": [
      "[2, 4, 6, 8]\n"
     ]
    }
   ],
   "source": [
    "def myfilter(fun,seq):\n",
    "    a=[]\n",
    "    for i in seq:\n",
    "        v=fun(i)\n",
    "        if v==True:\n",
    "            a.append(i)\n",
    "    return a\n",
    "lst=[1,2,3,4,5,6,7,8,9]\n",
    "even=list(myfilter(lambda n:n%2==0,lst))\n",
    "print(even)"
   ]
  },
  {
   "cell_type": "code",
   "execution_count": 3,
   "metadata": {},
   "outputs": [],
   "source": [
    "#2.Implement List comprehensions to produce the following lists. Write List comprehensions to produce the following Lists"
   ]
  },
  {
   "cell_type": "code",
   "execution_count": 4,
   "metadata": {},
   "outputs": [],
   "source": [
    "# ['A', 'C', 'A', 'D', 'G', 'I', ’L’, ‘ D’]"
   ]
  },
  {
   "cell_type": "code",
   "execution_count": 5,
   "metadata": {},
   "outputs": [
    {
     "data": {
      "text/plain": [
       "['A', 'C', 'A', 'D', 'G', 'I', 'L', 'D']"
      ]
     },
     "execution_count": 5,
     "metadata": {},
     "output_type": "execute_result"
    }
   ],
   "source": [
    "str='ACADGILD'\n",
    "[i for i in str]"
   ]
  },
  {
   "cell_type": "code",
   "execution_count": 6,
   "metadata": {},
   "outputs": [],
   "source": [
    "# ['x', 'xx', 'xxx', 'xxxx', 'y', 'yy', 'yyy', 'yyyy', 'z', 'zz', 'zzz', 'zzzz']"
   ]
  },
  {
   "cell_type": "code",
   "execution_count": 8,
   "metadata": {},
   "outputs": [
    {
     "name": "stdout",
     "output_type": "stream",
     "text": [
      "['x', 'xx', 'xxx', 'xxxx', 'y', 'yy', 'yyy', 'yyyy', 'z', 'zz', 'zzz', 'zzzz']\n"
     ]
    }
   ],
   "source": [
    "lst=[[i,i*2,i*3,i*4] for i in 'xyz' ]\n",
    "mst=[i for e in lst for i in e]\n",
    "print(mst)"
   ]
  },
  {
   "cell_type": "code",
   "execution_count": 19,
   "metadata": {},
   "outputs": [],
   "source": [
    "# ['x', 'y', 'z', 'xx', 'yy', 'zz', 'xx', 'yy', 'zz', 'xxxx', 'yyyy', 'zzzz']"
   ]
  },
  {
   "cell_type": "code",
   "execution_count": 18,
   "metadata": {},
   "outputs": [
    {
     "name": "stdout",
     "output_type": "stream",
     "text": [
      "['x', 'y', 'z', 'xx', 'yy', 'zz', 'xx', 'yy', 'zz', 'xxxx', 'yyyy', 'zzzz']\n"
     ]
    }
   ],
   "source": [
    "str='xyz'\n",
    "lstm=[]\n",
    "lst=[i for i in str]\n",
    "lst1=[i*2 for i in str]\n",
    "lst2=[i*4 for i in str]\n",
    "lstm.extend(lst)\n",
    "lstm.extend(lst1*2)\n",
    "lstm.extend(lst2)\n",
    "print(lstm)"
   ]
  },
  {
   "cell_type": "code",
   "execution_count": 20,
   "metadata": {},
   "outputs": [],
   "source": [
    "# [[2], [3], [4], [3], [4], [5], [4], [5], [6]]"
   ]
  },
  {
   "cell_type": "code",
   "execution_count": 1,
   "metadata": {},
   "outputs": [
    {
     "name": "stdout",
     "output_type": "stream",
     "text": [
      "[[2], [3], [4], [3], [4], [5], [4], [5], [6]]\n"
     ]
    }
   ],
   "source": [
    "lst=[2,3,4,3,4,5,4,5,6]\n",
    "lst1=[[i] for i in lst]\n",
    "print(lst1)"
   ]
  },
  {
   "cell_type": "code",
   "execution_count": 39,
   "metadata": {},
   "outputs": [],
   "source": [
    "# [[2, 3, 4, 5], [3, 4, 5, 6], [4, 5, 6, 7], [5, 6, 7, 8]]"
   ]
  },
  {
   "cell_type": "code",
   "execution_count": 40,
   "metadata": {},
   "outputs": [
    {
     "name": "stdout",
     "output_type": "stream",
     "text": [
      "[[2, 3, 4, 5], [3, 4, 5, 6], [4, 5, 6, 7], [5, 6, 7, 8]]\n"
     ]
    }
   ],
   "source": [
    "lst=[[i,i+1,i+2,i+3] for i in range(2,6)]\n",
    "print(lst)"
   ]
  },
  {
   "cell_type": "code",
   "execution_count": 2,
   "metadata": {},
   "outputs": [],
   "source": [
    "# [(1, 1), (2, 1), (3, 1), (1, 2), (2, 2), (3, 2), (1, 3), (2, 3), (3, 3)]"
   ]
  },
  {
   "cell_type": "code",
   "execution_count": 3,
   "metadata": {},
   "outputs": [
    {
     "name": "stdout",
     "output_type": "stream",
     "text": [
      "[(1, 1), (2, 1), (3, 1), (1, 2), (2, 2), (3, 2), (1, 3), (2, 3), (3, 3)]\n"
     ]
    }
   ],
   "source": [
    "lst=[(j,i) for i in range(1,4) for j in range(1,4)]\n",
    "print(lst)"
   ]
  },
  {
   "cell_type": "code",
   "execution_count": 4,
   "metadata": {},
   "outputs": [],
   "source": [
    "# 3.Implement a function longestWord() that takes a list of words and returns the longest one"
   ]
  },
  {
   "cell_type": "code",
   "execution_count": 4,
   "metadata": {},
   "outputs": [
    {
     "name": "stdout",
     "output_type": "stream",
     "text": [
      "enter a word. otherwise enter 'x' for quit  : wear\n",
      "enter a word. otherwise enter 'x' for quit  : qwerty\n",
      "enter a word. otherwise enter 'x' for quit  : qa\n",
      "enter a word. otherwise enter 'x' for quit  : all\n",
      "enter a word. otherwise enter 'x' for quit  : x\n",
      "['wear', 'qwerty', 'qa', 'all']\n",
      "\n",
      "\n",
      "longest word is : qwerty\n"
     ]
    }
   ],
   "source": [
    "lst=[]\n",
    "while True:\n",
    "    str=input(\"enter a word. otherwise enter 'x' for quit  : \")\n",
    "    if str!='x':\n",
    "         lst.append(str)\n",
    "    else:\n",
    "        print(lst)\n",
    "        break\n",
    "def longestWord(lst):\n",
    "    max_len = -1\n",
    "    for i in lst:\n",
    "        if len(i)>max_len:\n",
    "            max_len=len(i)\n",
    "            word=i\n",
    "    return word\n",
    "print('\\n')\n",
    "print(\"longest word is : \"+longestWord(lst))"
   ]
  },
  {
   "cell_type": "code",
   "execution_count": 9,
   "metadata": {},
   "outputs": [],
   "source": [
    "# Task-2"
   ]
  },
  {
   "cell_type": "code",
   "execution_count": 10,
   "metadata": {},
   "outputs": [],
   "source": [
    "#Write a Python Program(with class concepts) to find the area of the triangle using the below formula.\n",
    "#---->         area = (s*(s-a)*(s-b)*(s-c)) ** 0.5\n",
    "#Function to take the length of the sides of triangle from user should be defined in the parent class and function to calculate the area should be defined in subclass."
   ]
  },
  {
   "cell_type": "code",
   "execution_count": null,
   "metadata": {},
   "outputs": [],
   "source": [
    "a=int(input(\"Enter the 1st sides : \"))\n",
    "b=int(input(\"Enter the 2nd sides : \"))\n",
    "c=int(input(\"Enter the 3rd sides : \"))\n",
    "\n",
    "class area:\n",
    "\n",
    "    def __init__(self,a,b,c):\n",
    "        self.a=a\n",
    "        self.b=b\n",
    "        self.c=c\n",
    "class triangle(area):\n",
    "\n",
    "    def get_area(self,a,b,c):\n",
    "        s = (a + b + c) / 2\n",
    "        result =(s*(s-a)*(s-b)*(s-c)) ** 0.5\n",
    "        print(\"area of triangle is : {}\".format(result))\n",
    "\n",
    "obj=triangle(a,b,c)\n",
    "obj.get_area(a,b,c)"
   ]
  },
  {
   "cell_type": "code",
   "execution_count": null,
   "metadata": {},
   "outputs": [],
   "source": [
    "# 1.2 Write a function filter_long_words() that takes a list of words and an integer n and returns the list of words that are longer than n."
   ]
  },
  {
   "cell_type": "code",
   "execution_count": 2,
   "metadata": {},
   "outputs": [
    {
     "name": "stdout",
     "output_type": "stream",
     "text": [
      "enter a word. otherwise enter 'x' for quit  : so\n",
      "enter a word. otherwise enter 'x' for quit  : go\n",
      "enter a word. otherwise enter 'x' for quit  : good\n",
      "enter a word. otherwise enter 'x' for quit  : great\n",
      "enter a word. otherwise enter 'x' for quit  : nice\n",
      "enter a word. otherwise enter 'x' for quit  : everyday\n",
      "enter a word. otherwise enter 'x' for quit  : extreme\n",
      "enter a word. otherwise enter 'x' for quit  : x\n",
      "enter integer : 4\n",
      "['great', 'everyday', 'extreme']\n"
     ]
    }
   ],
   "source": [
    "lst=[]\n",
    "while True:\n",
    "    str=input(\"enter a word. otherwise enter 'x' for quit  : \")\n",
    "    if str!='x':\n",
    "         lst.append(str)\n",
    "    else:\n",
    "        break\n",
    "n=int(input(\"enter integer : \"))\n",
    "lstw=[]\n",
    "def filter_long_words(lst):\n",
    "    for i in lst:\n",
    "        if len(i)>n:\n",
    "            lstw.append(i)\n",
    "filter_long_words(lst)\n",
    "print(lstw)"
   ]
  },
  {
   "cell_type": "code",
   "execution_count": 3,
   "metadata": {},
   "outputs": [],
   "source": [
    "# 2.1 Write a Python program using function concept that maps list of words into a list of integers representing the lengths of the corresponding words.\n",
    "# --> Hint: If a list [ ab,cde,erty] is passed on to the python function output should come as [2,3,4]\n",
    "#-->  Here 2,3 and 4 are the lengths of the words in the list"
   ]
  },
  {
   "cell_type": "code",
   "execution_count": 4,
   "metadata": {},
   "outputs": [
    {
     "name": "stdout",
     "output_type": "stream",
     "text": [
      "enter no. of word seprated by space : know king everyday good\n",
      "['know', 'king', 'everyday', 'good']\n",
      "lenght of word is :\n",
      "[4, 4, 8, 4]\n"
     ]
    }
   ],
   "source": [
    "str=input(\"enter no. of word seprated by space : \")\n",
    "lst=str.split(\" \")\n",
    "lenl=[]\n",
    "print(lst)\n",
    "def len_list(lst):\n",
    "    for i in lst:\n",
    "        lenl.append(len(i))\n",
    "    print(lenl)\n",
    "print(\"lenght of word is :\")\n",
    "len_list(lst)"
   ]
  },
  {
   "cell_type": "code",
   "execution_count": 5,
   "metadata": {},
   "outputs": [],
   "source": [
    "# 2.2 Write a Python function which takes a character (i.e. a string of length 1) and returns True if it is a vowel, False otherwise."
   ]
  },
  {
   "cell_type": "code",
   "execution_count": 5,
   "metadata": {},
   "outputs": [
    {
     "name": "stdout",
     "output_type": "stream",
     "text": [
      "enter a string of length 1 : q\n",
      "False\n"
     ]
    }
   ],
   "source": [
    "char=input(\"enter a string of length 1 : \")\n",
    "char=char.lower()\n",
    "def isVowel(char):\n",
    "    vowels='aieou'\n",
    "    return char in vowels\n",
    "print(isVowel(char))"
   ]
  },
  {
   "cell_type": "code",
   "execution_count": null,
   "metadata": {},
   "outputs": [],
   "source": []
  }
 ],
 "metadata": {
  "kernelspec": {
   "display_name": "Python 3",
   "language": "python",
   "name": "python3"
  },
  "language_info": {
   "codemirror_mode": {
    "name": "ipython",
    "version": 3
   },
   "file_extension": ".py",
   "mimetype": "text/x-python",
   "name": "python",
   "nbconvert_exporter": "python",
   "pygments_lexer": "ipython3",
   "version": "3.7.6"
  }
 },
 "nbformat": 4,
 "nbformat_minor": 4
}
